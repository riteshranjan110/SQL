{
 "cells": [
  {
   "cell_type": "code",
   "execution_count": 1,
   "metadata": {},
   "outputs": [],
   "source": [
    "import pandas as pd\n",
    "import sqlite3\n",
    "import numpy as np\n",
    "conn = sqlite3.connect('Db-IMDB.db')"
   ]
  },
  {
   "cell_type": "markdown",
   "metadata": {},
   "source": [
    "<h1>Data Preprocessing</h1>\n",
    "<h3>1.Removing duplicates from person table</h3>"
   ]
  },
  {
   "cell_type": "code",
   "execution_count": 19,
   "metadata": {},
   "outputs": [
    {
     "data": {
      "text/html": [
       "<div>\n",
       "<style scoped>\n",
       "    .dataframe tbody tr th:only-of-type {\n",
       "        vertical-align: middle;\n",
       "    }\n",
       "\n",
       "    .dataframe tbody tr th {\n",
       "        vertical-align: top;\n",
       "    }\n",
       "\n",
       "    .dataframe thead th {\n",
       "        text-align: right;\n",
       "    }\n",
       "</style>\n",
       "<table border=\"1\" class=\"dataframe\">\n",
       "  <thead>\n",
       "    <tr style=\"text-align: right;\">\n",
       "      <th></th>\n",
       "      <th>Name</th>\n",
       "      <th>num_count</th>\n",
       "    </tr>\n",
       "  </thead>\n",
       "  <tbody>\n",
       "    <tr>\n",
       "      <th>0</th>\n",
       "      <td>Rajesh</td>\n",
       "      <td>12</td>\n",
       "    </tr>\n",
       "    <tr>\n",
       "      <th>1</th>\n",
       "      <td>Rahul</td>\n",
       "      <td>11</td>\n",
       "    </tr>\n",
       "    <tr>\n",
       "      <th>2</th>\n",
       "      <td>Imran Khan</td>\n",
       "      <td>10</td>\n",
       "    </tr>\n",
       "    <tr>\n",
       "      <th>3</th>\n",
       "      <td>Deepak</td>\n",
       "      <td>9</td>\n",
       "    </tr>\n",
       "    <tr>\n",
       "      <th>4</th>\n",
       "      <td>Raju</td>\n",
       "      <td>8</td>\n",
       "    </tr>\n",
       "  </tbody>\n",
       "</table>\n",
       "</div>"
      ],
      "text/plain": [
       "          Name  num_count\n",
       "0       Rajesh         12\n",
       "1        Rahul         11\n",
       "2   Imran Khan         10\n",
       "3       Deepak          9\n",
       "4         Raju          8"
      ]
     },
     "execution_count": 19,
     "metadata": {},
     "output_type": "execute_result"
    }
   ],
   "source": [
    "actor = pd.read_sql_query(\"select name,count(PID) as num_count from PERSON group by name order by num_count desc \",conn)\n",
    "actor.head()"
   ]
  },
  {
   "cell_type": "code",
   "execution_count": 27,
   "metadata": {},
   "outputs": [
    {
     "data": {
      "text/html": [
       "<div>\n",
       "<style scoped>\n",
       "    .dataframe tbody tr th:only-of-type {\n",
       "        vertical-align: middle;\n",
       "    }\n",
       "\n",
       "    .dataframe tbody tr th {\n",
       "        vertical-align: top;\n",
       "    }\n",
       "\n",
       "    .dataframe thead th {\n",
       "        text-align: right;\n",
       "    }\n",
       "</style>\n",
       "<table border=\"1\" class=\"dataframe\">\n",
       "  <thead>\n",
       "    <tr style=\"text-align: right;\">\n",
       "      <th></th>\n",
       "      <th>index</th>\n",
       "      <th>PID</th>\n",
       "      <th>Name</th>\n",
       "      <th>Gender</th>\n",
       "    </tr>\n",
       "  </thead>\n",
       "  <tbody>\n",
       "    <tr>\n",
       "      <th>0</th>\n",
       "      <td>0</td>\n",
       "      <td>nm0000288</td>\n",
       "      <td>Christian Bale</td>\n",
       "      <td>Male</td>\n",
       "    </tr>\n",
       "    <tr>\n",
       "      <th>1</th>\n",
       "      <td>1</td>\n",
       "      <td>nm0000949</td>\n",
       "      <td>Cate Blanchett</td>\n",
       "      <td>Female</td>\n",
       "    </tr>\n",
       "    <tr>\n",
       "      <th>2</th>\n",
       "      <td>2</td>\n",
       "      <td>nm1212722</td>\n",
       "      <td>Benedict Cumberbatch</td>\n",
       "      <td>Male</td>\n",
       "    </tr>\n",
       "    <tr>\n",
       "      <th>3</th>\n",
       "      <td>3</td>\n",
       "      <td>nm0365140</td>\n",
       "      <td>Naomie Harris</td>\n",
       "      <td>Female</td>\n",
       "    </tr>\n",
       "    <tr>\n",
       "      <th>4</th>\n",
       "      <td>4</td>\n",
       "      <td>nm0785227</td>\n",
       "      <td>Andy Serkis</td>\n",
       "      <td>Male</td>\n",
       "    </tr>\n",
       "  </tbody>\n",
       "</table>\n",
       "</div>"
      ],
      "text/plain": [
       "   index        PID                   Name  Gender\n",
       "0      0  nm0000288         Christian Bale    Male\n",
       "1      1  nm0000949         Cate Blanchett  Female\n",
       "2      2  nm1212722   Benedict Cumberbatch    Male\n",
       "3      3  nm0365140          Naomie Harris  Female\n",
       "4      4  nm0785227            Andy Serkis    Male"
      ]
     },
     "execution_count": 27,
     "metadata": {},
     "output_type": "execute_result"
    }
   ],
   "source": [
    "person = pd.read_sql_query(\"select * from PERSON\", conn)\n",
    "person.head()"
   ]
  },
  {
   "cell_type": "code",
   "execution_count": 22,
   "metadata": {},
   "outputs": [
    {
     "name": "stdout",
     "output_type": "stream",
     "text": [
      "Rows before removing duplicates 38285\n",
      "Rows after removing duplicates 37566\n"
     ]
    }
   ],
   "source": [
    "# we can clearly see that we have a lot of duplicate rows.\n",
    "# we will remove all the duplicates and create another table and insert rows in that table.\n",
    "new_person = person.drop_duplicates(subset={'PID'},keep='first')\n",
    "print(\"Rows before removing duplicates {}\".format(person.shape[0]))\n",
    "print(\"Rows after removing duplicates {}\".format(new_person.shape[0]))"
   ]
  },
  {
   "cell_type": "code",
   "execution_count": 35,
   "metadata": {},
   "outputs": [],
   "source": [
    "cursor = conn.cursor()\n",
    "cursor.execute(\"DROP TABLE Persons\")\n",
    "conn.commit()"
   ]
  },
  {
   "cell_type": "code",
   "execution_count": 36,
   "metadata": {},
   "outputs": [],
   "source": [
    "# We will create a new table with name persons\n",
    "cursor = conn.cursor()\n",
    "cursor.execute('CREATE TABLE Persons(PID VARCHAR(50) PRIMARY KEY,Name VARCHAR(100),Gender VARCHAR(10));')\n",
    "conn.commit()"
   ]
  },
  {
   "cell_type": "code",
   "execution_count": 37,
   "metadata": {},
   "outputs": [
    {
     "name": "stderr",
     "output_type": "stream",
     "text": [
      "100%|██████████████████████████████████████████████████████████████████████████| 37566/37566 [00:26<00:00, 1439.51it/s]\n"
     ]
    }
   ],
   "source": [
    "from tqdm import tqdm\n",
    "cursor = conn.cursor()\n",
    "for i in tqdm(range(new_person.shape[0])):\n",
    "    row = list(new_person.iloc[i].values)\n",
    "    cursor.execute('INSERT INTO Persons VALUES(?,?,?)',row[1:])\n",
    "conn.commit()\n",
    "    "
   ]
  },
  {
   "cell_type": "markdown",
   "metadata": {},
   "source": [
    "<h3>2.Trimmimg PID from M_Cast table</h3>"
   ]
  },
  {
   "cell_type": "code",
   "execution_count": 42,
   "metadata": {},
   "outputs": [],
   "source": [
    "cast = pd.read_sql_query(\"select * from M_Cast\", conn)"
   ]
  },
  {
   "cell_type": "code",
   "execution_count": 49,
   "metadata": {},
   "outputs": [],
   "source": [
    "cursor = conn.cursor()\n",
    "cursor.execute(\"UPDATE M_Cast SET PID = REPLACE(PID, ' ', '')\")\n",
    "conn.commit()"
   ]
  },
  {
   "cell_type": "markdown",
   "metadata": {},
   "source": [
    "<h3>Removing Roman Numerals from year column</h3>"
   ]
  },
  {
   "cell_type": "code",
   "execution_count": 52,
   "metadata": {},
   "outputs": [
    {
     "data": {
      "text/html": [
       "<div>\n",
       "<style scoped>\n",
       "    .dataframe tbody tr th:only-of-type {\n",
       "        vertical-align: middle;\n",
       "    }\n",
       "\n",
       "    .dataframe tbody tr th {\n",
       "        vertical-align: top;\n",
       "    }\n",
       "\n",
       "    .dataframe thead th {\n",
       "        text-align: right;\n",
       "    }\n",
       "</style>\n",
       "<table border=\"1\" class=\"dataframe\">\n",
       "  <thead>\n",
       "    <tr style=\"text-align: right;\">\n",
       "      <th></th>\n",
       "      <th>year</th>\n",
       "    </tr>\n",
       "  </thead>\n",
       "  <tbody>\n",
       "    <tr>\n",
       "      <th>0</th>\n",
       "      <td>I 2009</td>\n",
       "    </tr>\n",
       "    <tr>\n",
       "      <th>1</th>\n",
       "      <td>I 2018</td>\n",
       "    </tr>\n",
       "    <tr>\n",
       "      <th>2</th>\n",
       "      <td>XVII 2016</td>\n",
       "    </tr>\n",
       "    <tr>\n",
       "      <th>3</th>\n",
       "      <td>I 2017</td>\n",
       "    </tr>\n",
       "    <tr>\n",
       "      <th>4</th>\n",
       "      <td>II 2018</td>\n",
       "    </tr>\n",
       "  </tbody>\n",
       "</table>\n",
       "</div>"
      ],
      "text/plain": [
       "        year\n",
       "0     I 2009\n",
       "1     I 2018\n",
       "2  XVII 2016\n",
       "3     I 2017\n",
       "4    II 2018"
      ]
     },
     "execution_count": 52,
     "metadata": {},
     "output_type": "execute_result"
    }
   ],
   "source": [
    "rom_year = pd.read_sql_query(\"select year from Movie where year LIKE '%I%'\", conn)\n",
    "rom_year.head(5)"
   ]
  },
  {
   "cell_type": "code",
   "execution_count": 54,
   "metadata": {},
   "outputs": [],
   "source": [
    "year = pd.read_sql_query(\"select * from Movie\", conn)"
   ]
  },
  {
   "cell_type": "code",
   "execution_count": 56,
   "metadata": {},
   "outputs": [],
   "source": [
    "cursor = conn.cursor()\n",
    "cursor.execute(\"UPDATE Movie SET year = REPLACE(year,'I','')\")\n",
    "cursor.execute(\"UPDATE Movie SET year = REPLACE(year,'V','')\")\n",
    "cursor.execute(\"UPDATE Movie SET year = REPLACE(year,'X','')\")\n",
    "conn.commit()"
   ]
  },
  {
   "cell_type": "code",
   "execution_count": 57,
   "metadata": {},
   "outputs": [
    {
     "data": {
      "text/html": [
       "<div>\n",
       "<style scoped>\n",
       "    .dataframe tbody tr th:only-of-type {\n",
       "        vertical-align: middle;\n",
       "    }\n",
       "\n",
       "    .dataframe tbody tr th {\n",
       "        vertical-align: top;\n",
       "    }\n",
       "\n",
       "    .dataframe thead th {\n",
       "        text-align: right;\n",
       "    }\n",
       "</style>\n",
       "<table border=\"1\" class=\"dataframe\">\n",
       "  <thead>\n",
       "    <tr style=\"text-align: right;\">\n",
       "      <th></th>\n",
       "      <th>year</th>\n",
       "    </tr>\n",
       "  </thead>\n",
       "  <tbody>\n",
       "  </tbody>\n",
       "</table>\n",
       "</div>"
      ],
      "text/plain": [
       "Empty DataFrame\n",
       "Columns: [year]\n",
       "Index: []"
      ]
     },
     "execution_count": 57,
     "metadata": {},
     "output_type": "execute_result"
    }
   ],
   "source": [
    "rom_year = pd.read_sql_query(\"select year from Movie where year LIKE '%I%'\", conn)\n",
    "rom_year.head(5)"
   ]
  },
  {
   "cell_type": "markdown",
   "metadata": {},
   "source": [
    "<h3>1.List all the directors who directed a 'Comedy' movie in a leap year.  Your query should return director name, the\n",
    "movie name, and the year.\n",
    "</h3>"
   ]
  },
  {
   "cell_type": "code",
   "execution_count": 58,
   "metadata": {},
   "outputs": [
    {
     "name": "stdout",
     "output_type": "stream",
     "text": [
      "                Name                              title  year\n",
      "0       Milap Zaveri                         Mastizaade  2016\n",
      "1       Danny Leiner  Harold & Kumar Go to White Castle  2004\n",
      "2     Anurag Kashyap                 Gangs of Wasseypur  2012\n",
      "3       Frank Coraci        Around the World in 80 Days  2004\n",
      "4      Griffin Dunne             The Accidental Husband  2008\n",
      "5        Anurag Basu                             Barfi!  2012\n",
      "6    Gurinder Chadha                  Bride & Prejudice  2004\n",
      "7         Mike Judge    Beavis and Butt-Head Do America  1996\n",
      "8   Tarun Mansukhani                            Dostana  2008\n",
      "9       Shakun Batra                      Kapoor & Sons  2016\n"
     ]
    }
   ],
   "source": [
    "rows = pd.read_sql_query('''select Name,title,year from Persons p join M_Director md on p.PID = md.PID join Movie m on m.MID = md.MID where m.MID in\n",
    "                            (select MID from Movie where (year%4=0 and year%100!=0) and (year%4=0 or year%100=0 and year%400=0) and MID in\n",
    "                            (select MID from M_Genre where GID in(select GID from Genre where Name LIKE '%comedy%')))''', conn)\n",
    "print(rows.head(10))"
   ]
  },
  {
   "cell_type": "markdown",
   "metadata": {},
   "source": [
    "<h3>2.List the names of all the actors who played in the movie 'Anand' (1970)</h3>"
   ]
  },
  {
   "cell_type": "code",
   "execution_count": 60,
   "metadata": {},
   "outputs": [
    {
     "name": "stdout",
     "output_type": "stream",
     "text": [
      "                 Name\n",
      "0    Amitabh Bachchan\n",
      "1       Rajesh Khanna\n",
      "2       Sumita Sanyal\n",
      "3          Ramesh Deo\n",
      "4           Seema Deo\n",
      "5      Asit Kumar Sen\n",
      "6          Dev Kishan\n",
      "7        Atam Prakash\n",
      "8       Lalita Kumari\n",
      "9              Savita\n",
      "10     Brahm Bhardwaj\n",
      "11       Gurnam Singh\n",
      "12       Lalita Pawar\n",
      "13        Durga Khote\n",
      "14         Dara Singh\n",
      "15      Johnny Walker\n",
      "16          Moolchand\n"
     ]
    }
   ],
   "source": [
    "rows = pd.read_sql_query('''SELECT Name from Persons where TRIM(PID) in \n",
    "                         (SELECT TRIM(PID) from M_Cast where MID in\n",
    "                          (SELECT MID from Movie where title ='Anand'))''', conn)\n",
    "print(rows)"
   ]
  },
  {
   "cell_type": "markdown",
   "metadata": {},
   "source": [
    "<h3>3.List all the actors who acted in a film before 1970 and in a film after 1990. (That is: < 1970\n",
    "and > 1990.)</h3>"
   ]
  },
  {
   "cell_type": "code",
   "execution_count": 62,
   "metadata": {},
   "outputs": [
    {
     "name": "stdout",
     "output_type": "stream",
     "text": [
      "                Name\n",
      "0       Rishi Kapoor\n",
      "1   Amitabh Bachchan\n",
      "2             Asrani\n",
      "3       Zohra Sehgal\n",
      "4    Parikshat Sahni\n",
      "5      Rakesh Sharma\n",
      "6        Sanjay Dutt\n",
      "7          Ric Young\n",
      "8              Yusuf\n",
      "9     Suhasini Mulay\n"
     ]
    }
   ],
   "source": [
    "rows = pd.read_sql_query('''select Name from Persons where TRIM(PID) in\n",
    "                         (select TRIM(PID) from M_Cast where MID in\n",
    "                         (select TRIM(MID) from Movie where TRIM(year)<'1970') INTERSECT \n",
    "                         select TRIM(PID) from M_Cast where TRIM(MID) in\n",
    "                         (select TRIM(MID) from Movie where TRIM(year)>'1990'))''', conn)\n",
    "print(rows.head(10))"
   ]
  },
  {
   "cell_type": "markdown",
   "metadata": {},
   "source": [
    "<h3>4.List all directors who directed 10 movies or more, in descending order of the number of\n",
    "movies they directed. Return the directors' names and the number of movies each of them\n",
    "directed</h3>"
   ]
  },
  {
   "cell_type": "code",
   "execution_count": 63,
   "metadata": {},
   "outputs": [
    {
     "name": "stdout",
     "output_type": "stream",
     "text": [
      "               Name  cn\n",
      "0      David Dhawan  39\n",
      "1      Mahesh Bhatt  36\n",
      "2   Ram Gopal Varma  30\n",
      "3      Priyadarshan  30\n",
      "4      Vikram Bhatt  29\n"
     ]
    }
   ],
   "source": [
    "rows = pd.read_sql_query('''select Name,count(Name) cn from \n",
    "                         Persons p join M_Director md on p.PID = md.PID join Movie m on m.MID = md.MID \n",
    "                         group by Name having cn>10 order by cn desc''', conn)\n",
    "print(rows.head())"
   ]
  },
  {
   "cell_type": "markdown",
   "metadata": {},
   "source": [
    "<h3>5(a)  For each year, count the number of movies in that year that had only female actors.</h3>\n"
   ]
  },
  {
   "cell_type": "code",
   "execution_count": 64,
   "metadata": {},
   "outputs": [
    {
     "data": {
      "text/html": [
       "<div>\n",
       "<style scoped>\n",
       "    .dataframe tbody tr th:only-of-type {\n",
       "        vertical-align: middle;\n",
       "    }\n",
       "\n",
       "    .dataframe tbody tr th {\n",
       "        vertical-align: top;\n",
       "    }\n",
       "\n",
       "    .dataframe thead th {\n",
       "        text-align: right;\n",
       "    }\n",
       "</style>\n",
       "<table border=\"1\" class=\"dataframe\">\n",
       "  <thead>\n",
       "    <tr style=\"text-align: right;\">\n",
       "      <th></th>\n",
       "      <th>year</th>\n",
       "      <th>count(*)</th>\n",
       "    </tr>\n",
       "  </thead>\n",
       "  <tbody>\n",
       "    <tr>\n",
       "      <th>0</th>\n",
       "      <td>2018</td>\n",
       "      <td>1</td>\n",
       "    </tr>\n",
       "    <tr>\n",
       "      <th>1</th>\n",
       "      <td>1939</td>\n",
       "      <td>1</td>\n",
       "    </tr>\n",
       "    <tr>\n",
       "      <th>2</th>\n",
       "      <td>1999</td>\n",
       "      <td>1</td>\n",
       "    </tr>\n",
       "    <tr>\n",
       "      <th>3</th>\n",
       "      <td>2000</td>\n",
       "      <td>1</td>\n",
       "    </tr>\n",
       "  </tbody>\n",
       "</table>\n",
       "</div>"
      ],
      "text/plain": [
       "    year  count(*)\n",
       "0   2018         1\n",
       "1   1939         1\n",
       "2   1999         1\n",
       "3   2000         1"
      ]
     },
     "execution_count": 64,
     "metadata": {},
     "output_type": "execute_result"
    }
   ],
   "source": [
    "# 5(a)\n",
    "rows = pd.read_sql_query('''select year,count(*) from Movie where MID in\n",
    "                         (select MID from M_Cast where PID in\n",
    "                         (select PID from Persons where Gender='Female') and MID NOT IN\n",
    "                         (select MID from M_Cast where PID in(select PID from Persons where Gender='Male')))group by year''', conn)\n",
    "rows.head()"
   ]
  },
  {
   "cell_type": "markdown",
   "metadata": {},
   "source": [
    "<h3>5(b)  Now include a small change: report for each year the percentage of movies in that\n",
    "          year with only female actors, and the total number of movies made that year. For\n",
    "          example, one answer will be: 1990 31.81 13522 meaning that in 1990 there were\n",
    "          13,522 movies, and 31.81% had only female actors. You do not need to round your\n",
    "          answer.\n",
    "</h3>"
   ]
  },
  {
   "cell_type": "code",
   "execution_count": 65,
   "metadata": {},
   "outputs": [
    {
     "data": {
      "text/html": [
       "<div>\n",
       "<style scoped>\n",
       "    .dataframe tbody tr th:only-of-type {\n",
       "        vertical-align: middle;\n",
       "    }\n",
       "\n",
       "    .dataframe tbody tr th {\n",
       "        vertical-align: top;\n",
       "    }\n",
       "\n",
       "    .dataframe thead th {\n",
       "        text-align: right;\n",
       "    }\n",
       "</style>\n",
       "<table border=\"1\" class=\"dataframe\">\n",
       "  <thead>\n",
       "    <tr style=\"text-align: right;\">\n",
       "      <th></th>\n",
       "      <th>year</th>\n",
       "      <th>percentage</th>\n",
       "      <th>total_cnt</th>\n",
       "    </tr>\n",
       "  </thead>\n",
       "  <tbody>\n",
       "    <tr>\n",
       "      <th>0</th>\n",
       "      <td>2018</td>\n",
       "      <td>9</td>\n",
       "      <td>11</td>\n",
       "    </tr>\n",
       "    <tr>\n",
       "      <th>1</th>\n",
       "      <td>1939</td>\n",
       "      <td>50</td>\n",
       "      <td>2</td>\n",
       "    </tr>\n",
       "    <tr>\n",
       "      <th>2</th>\n",
       "      <td>1999</td>\n",
       "      <td>1</td>\n",
       "      <td>66</td>\n",
       "    </tr>\n",
       "    <tr>\n",
       "      <th>3</th>\n",
       "      <td>2000</td>\n",
       "      <td>1</td>\n",
       "      <td>64</td>\n",
       "    </tr>\n",
       "  </tbody>\n",
       "</table>\n",
       "</div>"
      ],
      "text/plain": [
       "    year  percentage  total_cnt\n",
       "0   2018           9         11\n",
       "1   1939          50          2\n",
       "2   1999           1         66\n",
       "3   2000           1         64"
      ]
     },
     "execution_count": 65,
     "metadata": {},
     "output_type": "execute_result"
    }
   ],
   "source": [
    "# 5(b)\n",
    "rows = pd.read_sql_query('''select year,(select count(*) from Movie where MID in(select MID from M_Cast where PID in\n",
    "                         (select PID from Persons where Gender='Female') and MID NOT IN\n",
    "                         (select MID from M_Cast where PID in\n",
    "                         (select PID from Persons where Gender='Male')))group by year) * 100 /count(distinct MID) as percentage,count(distinct MID) as total_cnt from Movie where year in\n",
    "                         (select year from Movie where MID in(select MID from M_Cast where PID in(select PID from Persons where Gender='Female') and MID NOT IN\n",
    "                         (select MID from M_Cast where PID in(select PID from Persons where Gender='Male')))group by year)group by year''', conn)\n",
    "rows.head()"
   ]
  },
  {
   "cell_type": "markdown",
   "metadata": {},
   "source": [
    "<h3>6. Find the film(s) with the largest cast. Return the movie title and the size of the cast. By \"cast\n",
    "size\" we mean the number of distinct actors that played in that movie: if an actor played\n",
    "multiple roles, or if it simply occurs multiple times in casts, we still count her/him only\n",
    "once.</h3>"
   ]
  },
  {
   "cell_type": "code",
   "execution_count": 66,
   "metadata": {},
   "outputs": [
    {
     "data": {
      "text/html": [
       "<div>\n",
       "<style scoped>\n",
       "    .dataframe tbody tr th:only-of-type {\n",
       "        vertical-align: middle;\n",
       "    }\n",
       "\n",
       "    .dataframe tbody tr th {\n",
       "        vertical-align: top;\n",
       "    }\n",
       "\n",
       "    .dataframe thead th {\n",
       "        text-align: right;\n",
       "    }\n",
       "</style>\n",
       "<table border=\"1\" class=\"dataframe\">\n",
       "  <thead>\n",
       "    <tr style=\"text-align: right;\">\n",
       "      <th></th>\n",
       "      <th>title</th>\n",
       "      <th>cast_size</th>\n",
       "    </tr>\n",
       "  </thead>\n",
       "  <tbody>\n",
       "    <tr>\n",
       "      <th>0</th>\n",
       "      <td>Ocean's Eight</td>\n",
       "      <td>238</td>\n",
       "    </tr>\n",
       "    <tr>\n",
       "      <th>1</th>\n",
       "      <td>Apaharan</td>\n",
       "      <td>233</td>\n",
       "    </tr>\n",
       "    <tr>\n",
       "      <th>2</th>\n",
       "      <td>Gold</td>\n",
       "      <td>215</td>\n",
       "    </tr>\n",
       "    <tr>\n",
       "      <th>3</th>\n",
       "      <td>My Name Is Khan</td>\n",
       "      <td>213</td>\n",
       "    </tr>\n",
       "    <tr>\n",
       "      <th>4</th>\n",
       "      <td>Captain America: Civil War</td>\n",
       "      <td>191</td>\n",
       "    </tr>\n",
       "  </tbody>\n",
       "</table>\n",
       "</div>"
      ],
      "text/plain": [
       "                        title  cast_size\n",
       "0               Ocean's Eight        238\n",
       "1                    Apaharan        233\n",
       "2                        Gold        215\n",
       "3             My Name Is Khan        213\n",
       "4  Captain America: Civil War        191"
      ]
     },
     "execution_count": 66,
     "metadata": {},
     "output_type": "execute_result"
    }
   ],
   "source": [
    "a=pd.read_sql_query(\"SELECT title,COUNT(DISTINCT(PID)) AS cast_size  FROM M_Cast c join MOVIE m on m.MID=c.MID group by title ORDER BY cast_size DESC\",conn)\n",
    "a.head()"
   ]
  },
  {
   "cell_type": "markdown",
   "metadata": {},
   "source": [
    "<h3>7. A decade is a sequence of 10 consecutive years. For example, say in your database you have\n",
    "movie information starting from 1965. Then the first decade is 1965, 1966, ..., 1974; the\n",
    "second one is 1967, 1968, ..., 1976 and so on. Find the decade D with the largest number of\n",
    "films and the total number of films in D.</h3>"
   ]
  },
  {
   "cell_type": "code",
   "execution_count": 67,
   "metadata": {},
   "outputs": [
    {
     "data": {
      "text/html": [
       "<div>\n",
       "<style scoped>\n",
       "    .dataframe tbody tr th:only-of-type {\n",
       "        vertical-align: middle;\n",
       "    }\n",
       "\n",
       "    .dataframe tbody tr th {\n",
       "        vertical-align: top;\n",
       "    }\n",
       "\n",
       "    .dataframe thead th {\n",
       "        text-align: right;\n",
       "    }\n",
       "</style>\n",
       "<table border=\"1\" class=\"dataframe\">\n",
       "  <thead>\n",
       "    <tr style=\"text-align: right;\">\n",
       "      <th></th>\n",
       "      <th>DECADE</th>\n",
       "      <th>movie_count</th>\n",
       "    </tr>\n",
       "  </thead>\n",
       "  <tbody>\n",
       "    <tr>\n",
       "      <th>0</th>\n",
       "      <td>2010-2019</td>\n",
       "      <td>1092</td>\n",
       "    </tr>\n",
       "    <tr>\n",
       "      <th>1</th>\n",
       "      <td>2000-2009</td>\n",
       "      <td>986</td>\n",
       "    </tr>\n",
       "    <tr>\n",
       "      <th>2</th>\n",
       "      <td>1990-1999</td>\n",
       "      <td>556</td>\n",
       "    </tr>\n",
       "    <tr>\n",
       "      <th>3</th>\n",
       "      <td>1980-1989</td>\n",
       "      <td>350</td>\n",
       "    </tr>\n",
       "    <tr>\n",
       "      <th>4</th>\n",
       "      <td>1970-1979</td>\n",
       "      <td>254</td>\n",
       "    </tr>\n",
       "  </tbody>\n",
       "</table>\n",
       "</div>"
      ],
      "text/plain": [
       "      DECADE  movie_count\n",
       "0  2010-2019         1092\n",
       "1  2000-2009          986\n",
       "2  1990-1999          556\n",
       "3  1980-1989          350\n",
       "4  1970-1979          254"
      ]
     },
     "execution_count": 67,
     "metadata": {},
     "output_type": "execute_result"
    }
   ],
   "source": [
    "a=pd.read_sql_query('''SELECT (year/10*10) || '-' || (year/10*10+9)  AS DECADE,count(MID) AS movie_count FROM \n",
    "                    MOVIE GROUP BY [Year]/10*10 ORDER BY movie_count DESC''',conn)\n",
    "a.head()"
   ]
  },
  {
   "cell_type": "markdown",
   "metadata": {},
   "source": [
    "<h3>8. Find the actors that were never unemployed for more than 3 years at a stretch. (Assume\n",
    "that the actors remain unemployed between two consecutive movies).</h3>"
   ]
  },
  {
   "cell_type": "code",
   "execution_count": 69,
   "metadata": {},
   "outputs": [
    {
     "data": {
      "text/html": [
       "<div>\n",
       "<style scoped>\n",
       "    .dataframe tbody tr th:only-of-type {\n",
       "        vertical-align: middle;\n",
       "    }\n",
       "\n",
       "    .dataframe tbody tr th {\n",
       "        vertical-align: top;\n",
       "    }\n",
       "\n",
       "    .dataframe thead th {\n",
       "        text-align: right;\n",
       "    }\n",
       "</style>\n",
       "<table border=\"1\" class=\"dataframe\">\n",
       "  <thead>\n",
       "    <tr style=\"text-align: right;\">\n",
       "      <th></th>\n",
       "      <th>Name</th>\n",
       "    </tr>\n",
       "  </thead>\n",
       "  <tbody>\n",
       "    <tr>\n",
       "      <th>0</th>\n",
       "      <td>Freida Pinto</td>\n",
       "    </tr>\n",
       "    <tr>\n",
       "      <th>1</th>\n",
       "      <td>Rohan Chand</td>\n",
       "    </tr>\n",
       "    <tr>\n",
       "      <th>2</th>\n",
       "      <td>Griffin Dunne</td>\n",
       "    </tr>\n",
       "    <tr>\n",
       "      <th>3</th>\n",
       "      <td>Damian Young</td>\n",
       "    </tr>\n",
       "    <tr>\n",
       "      <th>4</th>\n",
       "      <td>Waris Ahluwalia</td>\n",
       "    </tr>\n",
       "  </tbody>\n",
       "</table>\n",
       "</div>"
      ],
      "text/plain": [
       "               Name\n",
       "0      Freida Pinto\n",
       "1       Rohan Chand\n",
       "2     Griffin Dunne\n",
       "3      Damian Young\n",
       "4   Waris Ahluwalia"
      ]
     },
     "execution_count": 69,
     "metadata": {},
     "output_type": "execute_result"
    }
   ],
   "source": [
    "rows = pd.read_sql_query('''select Name from (M_cast mc join Movie m on mc.MID=m.MID join Persons p on p.PID=mc.PID) as t1 where \n",
    "                         Name in(select Name from (M_cast mc join Movie m on mc.MID=m.MID join Persons p on p.PID=mc.PID)as t2\n",
    "                         where t1.Name=t2.Name and (t1.year-t2.year)*(t1.year-t2.year)>9 order by year)''',conn)\n",
    "rows.head()"
   ]
  },
  {
   "cell_type": "markdown",
   "metadata": {},
   "source": [
    "<h3>9. Find all the actors that made more movies with Yash Chopra than any other director.</h3>"
   ]
  },
  {
   "cell_type": "code",
   "execution_count": 70,
   "metadata": {},
   "outputs": [
    {
     "data": {
      "text/html": [
       "<div>\n",
       "<style scoped>\n",
       "    .dataframe tbody tr th:only-of-type {\n",
       "        vertical-align: middle;\n",
       "    }\n",
       "\n",
       "    .dataframe tbody tr th {\n",
       "        vertical-align: top;\n",
       "    }\n",
       "\n",
       "    .dataframe thead th {\n",
       "        text-align: right;\n",
       "    }\n",
       "</style>\n",
       "<table border=\"1\" class=\"dataframe\">\n",
       "  <thead>\n",
       "    <tr style=\"text-align: right;\">\n",
       "      <th></th>\n",
       "      <th>actor</th>\n",
       "    </tr>\n",
       "  </thead>\n",
       "  <tbody>\n",
       "    <tr>\n",
       "      <th>0</th>\n",
       "      <td>Jagdish Raj</td>\n",
       "    </tr>\n",
       "    <tr>\n",
       "      <th>1</th>\n",
       "      <td>Manmohan Krishna</td>\n",
       "    </tr>\n",
       "    <tr>\n",
       "      <th>2</th>\n",
       "      <td>Iftekhar</td>\n",
       "    </tr>\n",
       "    <tr>\n",
       "      <th>3</th>\n",
       "      <td>Shashi Kapoor</td>\n",
       "    </tr>\n",
       "    <tr>\n",
       "      <th>4</th>\n",
       "      <td>Rakhee Gulzar</td>\n",
       "    </tr>\n",
       "  </tbody>\n",
       "</table>\n",
       "</div>"
      ],
      "text/plain": [
       "               actor\n",
       "0        Jagdish Raj\n",
       "1   Manmohan Krishna\n",
       "2           Iftekhar\n",
       "3      Shashi Kapoor\n",
       "4      Rakhee Gulzar"
      ]
     },
     "execution_count": 70,
     "metadata": {},
     "output_type": "execute_result"
    }
   ],
   "source": [
    "# Answer for question 9\n",
    "rows = pd.read_sql_query(\"\"\"select distinct actor from (select actor,director,max(c_dir) m from \n",
    "                         (select act.Name as actor,dir.Name as director, count(*) as c_dir from \n",
    "                          (M_Director md join Persons p on md.PID=p.PID) as dir \n",
    "                          join(M_cast mc join Persons p on mc.PID=p.PID) as act \n",
    "                          on dir.MID=act.MID group by actor,dir.Name order by c_dir desc)as result1 \n",
    "                         group by actor order by m desc)as result2 where TRIM(director) = 'Yash Chopra'\"\"\", conn)\n",
    "rows.head()"
   ]
  },
  {
   "cell_type": "markdown",
   "metadata": {},
   "source": [
    "<h3>10. The Shahrukh number of an actor is the length of the shortest path between the actor and\n",
    "Shahrukh Khan in the \"co-acting\" graph. That is, Shahrukh Khan has Shahrukh number 0; all\n",
    "actors who acted in the same film as Shahrukh have Shahrukh number 1; all actors who\n",
    "acted in the same film as some actor with Shahrukh number 1 have Shahrukh number 2, etc.\n",
    "Return all actors whose Shahrukh number is 2.</h3>"
   ]
  },
  {
   "cell_type": "code",
   "execution_count": 71,
   "metadata": {},
   "outputs": [
    {
     "data": {
      "text/html": [
       "<div>\n",
       "<style scoped>\n",
       "    .dataframe tbody tr th:only-of-type {\n",
       "        vertical-align: middle;\n",
       "    }\n",
       "\n",
       "    .dataframe tbody tr th {\n",
       "        vertical-align: top;\n",
       "    }\n",
       "\n",
       "    .dataframe thead th {\n",
       "        text-align: right;\n",
       "    }\n",
       "</style>\n",
       "<table border=\"1\" class=\"dataframe\">\n",
       "  <thead>\n",
       "    <tr style=\"text-align: right;\">\n",
       "      <th></th>\n",
       "      <th>Name</th>\n",
       "    </tr>\n",
       "  </thead>\n",
       "  <tbody>\n",
       "    <tr>\n",
       "      <th>0</th>\n",
       "      <td>Freida Pinto</td>\n",
       "    </tr>\n",
       "    <tr>\n",
       "      <th>1</th>\n",
       "      <td>Rohan Chand</td>\n",
       "    </tr>\n",
       "    <tr>\n",
       "      <th>2</th>\n",
       "      <td>Damian Young</td>\n",
       "    </tr>\n",
       "    <tr>\n",
       "      <th>3</th>\n",
       "      <td>Waris Ahluwalia</td>\n",
       "    </tr>\n",
       "    <tr>\n",
       "      <th>4</th>\n",
       "      <td>Caroline Christl Long</td>\n",
       "    </tr>\n",
       "  </tbody>\n",
       "</table>\n",
       "</div>"
      ],
      "text/plain": [
       "                     Name\n",
       "0            Freida Pinto\n",
       "1             Rohan Chand\n",
       "2            Damian Young\n",
       "3         Waris Ahluwalia\n",
       "4   Caroline Christl Long"
      ]
     },
     "execution_count": 71,
     "metadata": {},
     "output_type": "execute_result"
    }
   ],
   "source": [
    "# Answer of question 10\n",
    "rows = pd.read_sql_query(\"\"\"select Name from Person where PID in \n",
    "                         (select distinct PID from M_Cast where MID in\n",
    "                          (select MID from(M_Cast mc join Person p on mc.PID=p.PID)as t3 where t3.PID in\n",
    "                           (select PID from M_Cast where MID in(select MID from(Person p join M_Cast mc on p.PID=mc.PID) as t1\n",
    "                            where TRIM(t1.Name)='Shah Rukh Khan') and PID not in\n",
    "                            (select PID from Person where TRIM(Name)='Shah Rukh Khan'))))\"\"\", conn)\n",
    "rows.head()"
   ]
  },
  {
   "cell_type": "code",
   "execution_count": null,
   "metadata": {},
   "outputs": [],
   "source": []
  }
 ],
 "metadata": {
  "kernelspec": {
   "display_name": "Python 3",
   "language": "python",
   "name": "python3"
  },
  "language_info": {
   "codemirror_mode": {
    "name": "ipython",
    "version": 3
   },
   "file_extension": ".py",
   "mimetype": "text/x-python",
   "name": "python",
   "nbconvert_exporter": "python",
   "pygments_lexer": "ipython3",
   "version": "3.6.5"
  }
 },
 "nbformat": 4,
 "nbformat_minor": 2
}
